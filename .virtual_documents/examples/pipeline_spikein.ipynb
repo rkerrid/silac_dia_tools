





# Import modules
from silac_dia_tools.pipeline import filtering_diann_report as filter_report
from silac_dia_tools.pipeline import format_silac_precursors as format_precursors
from silac_dia_tools.pipeline import extract_protein_level_ratios as extract_ratios
from silac_dia_tools.pipeline import calculate_protein_intensities as calulate_intensities


# Set path to directory containing the report.tsv and optionally any metadata
path = 'G:/My Drive/Data/data/spikein data/'


# Filter report.tsv (set update to True to monitor processing of chunked data, set meta=True if you have metadata to relable Run column)
df = filter_report.import_and_filter(path, update=False)


# Format precursors
df = format_precursors.format_silac_channels(path)


# Extract ratios
df = extract_ratios.calculate_protein_level_ratios(path)


df.head()


calulate_intensities.output_href(path)



