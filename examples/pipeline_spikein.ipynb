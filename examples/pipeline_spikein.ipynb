{
 "cells": [
  {
   "cell_type": "markdown",
   "id": "dd826bb0-b77c-4701-82e2-e9c8825ede58",
   "metadata": {},
   "source": [
    "# Example Pipeline For Processing Spike-in SILAC-DIA Experiments"
   ]
  },
  {
   "cell_type": "code",
   "execution_count": null,
   "id": "241a46e3-b5d8-43b8-8643-41a6709937d5",
   "metadata": {},
   "outputs": [],
   "source": []
  },
  {
   "cell_type": "code",
   "execution_count": 2,
   "id": "16730496-1796-4198-b8ed-606d72c997f3",
   "metadata": {},
   "outputs": [],
   "source": [
    "# Import modules\n",
    "from silac_dia_tools.pipeline import filtering_diann_report as filter_report\n",
    "from silac_dia_tools.pipeline import format_silac_precursors as format_precursors\n",
    "from silac_dia_tools.pipeline import extract_protein_level_ratios as extract_ratios\n",
    "from silac_dia_tools.pipeline import calculate_protein_intensities as calulate_intensities"
   ]
  },
  {
   "cell_type": "code",
   "execution_count": 3,
   "id": "78007b07-e7dc-4c8a-b710-3de5f9b5b949",
   "metadata": {},
   "outputs": [],
   "source": [
    "# Set path to directory containing the report.tsv and optionally any metadata\n",
    "path = 'G:/My Drive/Data/data/spikein data/'"
   ]
  },
  {
   "cell_type": "code",
   "execution_count": 4,
   "id": "7042cc50-b201-4bae-9903-98f0582ada59",
   "metadata": {},
   "outputs": [
    {
     "name": "stdout",
     "output_type": "stream",
     "text": [
      "No metadata added, filering will continue without relabeling\n",
      "Loading filtering parameters\n",
      "Beggining filtering\n",
      "Generating filtering report\n",
      "Folder reports already exists at G:/My Drive/Data/data/spikein data/reports\n",
      "Folder preprocessing already exists at G:/My Drive/Data/data/spikein data/preprocessing\n",
      "Saving filtered_report.tsv\n",
      "Filtering complete\n"
     ]
    }
   ],
   "source": [
    "# Filter report.tsv (set update to True to monitor processing of chunked data, set meta=True if you have metadata to relable Run column)\n",
    "df = filter_report.import_and_filter(path, update=False)"
   ]
  },
  {
   "cell_type": "code",
   "execution_count": 5,
   "id": "f928be47-99b4-42dd-9bce-f9ba09ee9f9c",
   "metadata": {},
   "outputs": [
    {
     "name": "stdout",
     "output_type": "stream",
     "text": [
      "Importing report_filtered.tsv\n",
      "Parsing data for SILAC intensities\n",
      "combining modified precursors\n",
      "Generating report...\n",
      "Folder reports already exists at G:/My Drive/Data/data/spikein data/reports\n",
      "True\n",
      "Saving precursors...\n",
      "Done!\n"
     ]
    }
   ],
   "source": [
    "# Format precursors\n",
    "df = format_precursors.format_silac_channels(path)"
   ]
  },
  {
   "cell_type": "code",
   "execution_count": null,
   "id": "e2862d81-9c22-4ad5-a4dc-0304402a0b9e",
   "metadata": {},
   "outputs": [
    {
     "name": "stdout",
     "output_type": "stream",
     "text": [
      "Importing SILAC precursors\n",
      "Calculating ratios from precursor information\n"
     ]
    },
    {
     "name": "stderr",
     "output_type": "stream",
     "text": [
      "Processing proteins:  34%|██████████████████▍                                   | 23951/70171 [00:34<01:06, 694.02it/s]"
     ]
    }
   ],
   "source": [
    "# Extract ratios\n",
    "df = extract_ratios.calculate_protein_level_ratios(path)"
   ]
  },
  {
   "cell_type": "code",
   "execution_count": null,
   "id": "c7f27d04-ff54-4909-9c68-1dfb450166ee",
   "metadata": {},
   "outputs": [],
   "source": [
    "df.head()"
   ]
  },
  {
   "cell_type": "code",
   "execution_count": null,
   "id": "aadeab68-39fe-404e-b0f6-617d01c5c4d3",
   "metadata": {},
   "outputs": [],
   "source": [
    "calulate_intensities.output_href(path)"
   ]
  },
  {
   "cell_type": "code",
   "execution_count": null,
   "id": "27b174cc-3d04-4d6f-a781-52f711ddece0",
   "metadata": {},
   "outputs": [],
   "source": []
  }
 ],
 "metadata": {
  "kernelspec": {
   "display_name": "Python 3 (ipykernel)",
   "language": "python",
   "name": "python3"
  },
  "language_info": {
   "codemirror_mode": {
    "name": "ipython",
    "version": 3
   },
   "file_extension": ".py",
   "mimetype": "text/x-python",
   "name": "python",
   "nbconvert_exporter": "python",
   "pygments_lexer": "ipython3",
   "version": "3.8.18"
  }
 },
 "nbformat": 4,
 "nbformat_minor": 5
}
